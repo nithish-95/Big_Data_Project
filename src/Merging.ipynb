{
  "nbformat": 4,
  "nbformat_minor": 0,
  "metadata": {
    "colab": {
      "provenance": []
    },
    "kernelspec": {
      "name": "python3",
      "display_name": "Python 3"
    },
    "language_info": {
      "name": "python"
    }
  },
  "cells": [
    {
      "cell_type": "code",
      "execution_count": 27,
      "metadata": {
        "colab": {
          "base_uri": "https://localhost:8080/"
        },
        "id": "NZkbZNrQRphh",
        "outputId": "5a9fcda9-b9a1-4bc4-fd8f-aed04c9ca1df"
      },
      "outputs": [
        {
          "output_type": "stream",
          "name": "stdout",
          "text": [
            "Requirement already satisfied: pyspark in /usr/local/lib/python3.10/dist-packages (3.5.1)\n",
            "Requirement already satisfied: py4j==0.10.9.7 in /usr/local/lib/python3.10/dist-packages (from pyspark) (0.10.9.7)\n"
          ]
        }
      ],
      "source": [
        "!pip install pyspark"
      ]
    },
    {
      "cell_type": "code",
      "source": [
        "import os\n",
        "import pyspark\n",
        "from google.colab import files\n",
        "from pyspark.sql import SparkSession\n",
        "from pyspark.sql.functions import col\n",
        "\n",
        "# Create SparkSession\n",
        "spark = SparkSession.builder \\\n",
        "    .appName(\"BigDataProject\") \\\n",
        "    .config('spark.ui.port', '4050') \\\n",
        "    .getOrCreate()\n"
      ],
      "metadata": {
        "id": "KZjEoEqDRuN1"
      },
      "execution_count": 28,
      "outputs": []
    },
    {
      "cell_type": "code",
      "source": [
        "# Define the CSV file paths\n",
        "file1_path = \"Hotel_Room_attributes.csv\"\n",
        "file2_path = \"hotels_RoomPrice.csv\"\n",
        "file3_path = \"hotel_price_min_max_Formula.csv\"\n",
        "file4_path = \"Hotel_details.csv\"\n",
        "\n",
        "\n",
        "# Load the CSV files into PySpark DataFrames\n",
        "df1 = spark.read.csv(file1_path, header=True, inferSchema=True)\n",
        "df2 = spark.read.csv(file2_path, header=True, inferSchema=True)\n",
        "\n",
        "df3 = spark.read.csv(file1_path, header=True, inferSchema=True)\n",
        "df4 = spark.read.csv(file2_path, header=True, inferSchema=True)\n",
        "\n",
        "\n",
        "\n",
        "# Perform the inner join on a common column(s)\n",
        "joined_df = df1.join(df2, on=[\"hotelcode\",\"id\"], how=\"inner\")\n",
        "joined_df1 = joined_df.join(df3, on=None)\n",
        "joined_df2 = joined_df1.join(df4, on=None)\n",
        "\n",
        "\n",
        "# Show the result\n",
        "joined_df2.show()\n",
        "\n",
        "output_csv = joined_df.toPandas().to_csv(index=False)\n",
        "with open('output_file.csv', 'w') as f:\n",
        "    f.write(output_csv)\n",
        "files.download('output_file.csv')\n",
        "\n",
        "# Stop the SparkSession\n",
        "spark.stop()"
      ],
      "metadata": {
        "colab": {
          "base_uri": "https://localhost:8080/",
          "height": 501
        },
        "id": "i89yvJ6aT3td",
        "outputId": "d44c6427-a826-4005-93dd-4d51c519b431"
      },
      "execution_count": 29,
      "outputs": [
        {
          "output_type": "stream",
          "name": "stdout",
          "text": [
            "+---------+--------+--------------------+--------------------+--------------------+-------+-----------+--------+---+------+--------------------+----------+-------+--------+--------------------+--------------------+--------------------+--------------------+------------+-------+------+--------+---------+-----------+---------+--------------------+---------+--------------------+-------------+-----------------+----------+-----------------+----+--------+---------+--------------------+-----------+--------------------+--------+-------+---------+-----------+--------+---+------+--------------------+----------+-------+--------+--------------------+--------------------+--------------------+--------------------+------------+-------+------+--------+---------+-----------+---------+--------------------+---------+--------------------+-------------+--------------------+----------+-----------------+----+\n",
            "|hotelcode|      id|       roomamenities|            roomtype|     ratedescription|  refid|websitecode|ratedate|los|guests|            roomtype|onsiterate|netrate|currency|     ratedescription|            ratetype|           sourceurl|       roomamenities|maxoccupancy|ispromo|closed|discount|promoname|status_code|taxstatus|             taxtype|taxamount|           proxyused|israteperstay|mealinclusiontype|hotelblock|input_dtcollected|_c29|      id|hotelcode|       roomamenities|   roomtype|     ratedescription|      id|  refid|hotelcode|websitecode|ratedate|los|guests|            roomtype|onsiterate|netrate|currency|     ratedescription|            ratetype|           sourceurl|       roomamenities|maxoccupancy|ispromo|closed|discount|promoname|status_code|taxstatus|             taxtype|taxamount|           proxyused|israteperstay|   mealinclusiontype|hotelblock|input_dtcollected|_c29|\n",
            "+---------+--------+--------------------+--------------------+--------------------+-------+-----------+--------+---+------+--------------------+----------+-------+--------+--------------------+--------------------+--------------------+--------------------+------------+-------+------+--------+---------+-----------+---------+--------------------+---------+--------------------+-------------+-----------------+----------+-----------------+----+--------+---------+--------------------+-----------+--------------------+--------+-------+---------+-----------+--------+---+------+--------------------+----------+-------+--------+--------------------+--------------------+--------------------+--------------------+------------+-------+------+--------+---------+-----------+---------+--------------------+---------+--------------------+-------------+--------------------+----------+-----------------+----+\n",
            "|       31|70198944|Air conditioning:...|Classic Double or...|Room size: 20 m²/...|6722330|          5|13/12/19|  1|     1|Classic Double or...|    219.52|      0|     USD|Room size: 20 m²/...|Extra low price! ...|https://www.agoda...|Air conditioning:...|           1|      N|     N|     0.0|     NULL|        200|        2|City tax (Pay at ...|        0|media:M3diAproxy@...|            Y|   Free Breakfast|      NULL|         13/10/19|NULL|50677497|   634876|Air conditioning:...|Double Room|Room size: 15 m²/...|50677497|8646773|   634876|          5|02/11/19|  1|     1|         Double Room|     82.36|  87.84|     USD|Room size: 15 m²/...| Cancellation policy|https://www.agoda...|Air conditioning:...|           1|      Y|     N|    6.24|     NULL|        200|        2|                NULL|        0|media:M3diAproxy@...|            Y|      Free Breakfast|      NULL|         13/10/19|NULL|\n",
            "|       31|70198944|Air conditioning:...|Classic Double or...|Room size: 20 m²/...|6722330|          5|13/12/19|  1|     1|Classic Double or...|    219.52|      0|     USD|Room size: 20 m²/...|Extra low price! ...|https://www.agoda...|Air conditioning:...|           1|      N|     N|     0.0|     NULL|        200|        2|City tax (Pay at ...|        0|media:M3diAproxy@...|            Y|   Free Breakfast|      NULL|         13/10/19|NULL|50677497|   634876|Air conditioning:...|Double Room|Room size: 15 m²/...|50672149|6234691|  8328096|          5|30/11/19|  1|     1|       Vacation Home|    636.09|      0|     USD|Shower, Kitchenet...| Cancellation policy|https://www.agoda...|Air conditioning:...|           4|      N|     N|     0.0|     NULL|        200|        2|                NULL|        0|media:M3diAproxy@...|            Y|                NULL|      NULL|         13/10/19|NULL|\n",
            "|       31|70198944|Air conditioning:...|Classic Double or...|Room size: 20 m²/...|6722330|          5|13/12/19|  1|     1|Classic Double or...|    219.52|      0|     USD|Room size: 20 m²/...|Extra low price! ...|https://www.agoda...|Air conditioning:...|           1|      N|     N|     0.0|     NULL|        200|        2|City tax (Pay at ...|        0|media:M3diAproxy@...|            Y|   Free Breakfast|      NULL|         13/10/19|NULL|50677497|   634876|Air conditioning:...|Double Room|Room size: 15 m²/...|50643430|7015677|  8323442|          5|20/12/19|  1|     1|       Vacation Home|    591.74|      0|     USD|Shower, Kitchenet...|Extra low price! ...|https://www.agoda...|Air conditioning:...|           4|      N|     N|     0.0|     NULL|        200|        2|                NULL|        0|media:M3diAproxy@...|            Y|                NULL|      NULL|         13/10/19|NULL|\n",
            "|       31|70198944|Air conditioning:...|Classic Double or...|Room size: 20 m²/...|6722330|          5|13/12/19|  1|     1|Classic Double or...|    219.52|      0|     USD|Room size: 20 m²/...|Extra low price! ...|https://www.agoda...|Air conditioning:...|           1|      N|     N|     0.0|     NULL|        200|        2|City tax (Pay at ...|        0|media:M3diAproxy@...|            Y|   Free Breakfast|      NULL|         13/10/19|NULL|50677497|   634876|Air conditioning:...|Double Room|Room size: 15 m²/...|50650317|7327094|     7975|          5|28/12/19|  1|     1|Standard Triple Room|    881.48|      0|     USD|Room size: 20 m²/...|Extra low price! ...|https://www.agoda...|Air conditioning:...|           1|      N|     N|     0.0|     NULL|        200|        2|             Tax 20%|        0|media:M3diAproxy@...|            Y|                NULL|      NULL|         13/10/19|NULL|\n",
            "|       31|70198944|Air conditioning:...|Classic Double or...|Room size: 20 m²/...|6722330|          5|13/12/19|  1|     1|Classic Double or...|    219.52|      0|     USD|Room size: 20 m²/...|Extra low price! ...|https://www.agoda...|Air conditioning:...|           1|      N|     N|     0.0|     NULL|        200|        2|City tax (Pay at ...|        0|media:M3diAproxy@...|            Y|   Free Breakfast|      NULL|         13/10/19|NULL|50677497|   634876|Air conditioning:...|Double Room|Room size: 15 m²/...|50650318|7327094|     7975|          5|28/12/19|  1|     1|Standard Triple Room|    897.53|      0|     USD|Room size: 20 m²/...|Extra low price! ...|https://www.agoda...|Air conditioning:...|           3|      N|     N|     0.0|     NULL|        200|        2|        VAT $ 179.51|        0|media:M3diAproxy@...|            Y|Free breakfast fo...|      NULL|         13/10/19|NULL|\n",
            "|       31|70198944|Air conditioning:...|Classic Double or...|Room size: 20 m²/...|6722330|          5|13/12/19|  1|     1|Classic Double or...|    219.52|      0|     USD|Room size: 20 m²/...|Extra low price! ...|https://www.agoda...|Air conditioning:...|           1|      N|     N|     0.0|     NULL|        200|        2|City tax (Pay at ...|        0|media:M3diAproxy@...|            Y|   Free Breakfast|      NULL|         13/10/19|NULL|50677497|   634876|Air conditioning:...|Double Room|Room size: 15 m²/...|50650319|7327094|     7975|          5|28/12/19|  1|     1|Standard Triple Room|   1055.92|      0|     USD|Room size: 20 m²/...|Free cancellation...|https://www.agoda...|Air conditioning:...|           3|      N|     N|     0.0|     NULL|        200|        2|        VAT $ 211.19|        0|media:M3diAproxy@...|            Y|Free breakfast fo...|      NULL|         13/10/19|NULL|\n",
            "|       31|70198944|Air conditioning:...|Classic Double or...|Room size: 20 m²/...|6722330|          5|13/12/19|  1|     1|Classic Double or...|    219.52|      0|     USD|Room size: 20 m²/...|Extra low price! ...|https://www.agoda...|Air conditioning:...|           1|      N|     N|     0.0|     NULL|        200|        2|City tax (Pay at ...|        0|media:M3diAproxy@...|            Y|   Free Breakfast|      NULL|         13/10/19|NULL|50677497|   634876|Air conditioning:...|Double Room|Room size: 15 m²/...|50650320|7327094|     7975|          5|28/12/19|  1|     1|  Deluxe Triple Room|    897.53|      0|     USD|Shower, 1 single ...|Extra low price! ...|https://www.agoda...|Air conditioning:...|           3|      N|     N|     0.0|     NULL|        200|        2|        VAT $ 179.51|        0|media:M3diAproxy@...|            Y|Free breakfast fo...|      NULL|         13/10/19|NULL|\n",
            "|       31|70198944|Air conditioning:...|Classic Double or...|Room size: 20 m²/...|6722330|          5|13/12/19|  1|     1|Classic Double or...|    219.52|      0|     USD|Room size: 20 m²/...|Extra low price! ...|https://www.agoda...|Air conditioning:...|           1|      N|     N|     0.0|     NULL|        200|        2|City tax (Pay at ...|        0|media:M3diAproxy@...|            Y|   Free Breakfast|      NULL|         13/10/19|NULL|50677497|   634876|Air conditioning:...|Double Room|Room size: 15 m²/...|50650321|7327094|     7975|          5|28/12/19|  1|     1|  Deluxe Triple Room|   1055.92|      0|     USD|Shower, 1 single ...|Free cancellation...|https://www.agoda...|Air conditioning:...|           3|      N|     N|     0.0|     NULL|        200|        2|        VAT $ 211.19|        0|media:M3diAproxy@...|            Y|Free breakfast fo...|      NULL|         13/10/19|NULL|\n",
            "|       31|70198944|Air conditioning:...|Classic Double or...|Room size: 20 m²/...|6722330|          5|13/12/19|  1|     1|Classic Double or...|    219.52|      0|     USD|Room size: 20 m²/...|Extra low price! ...|https://www.agoda...|Air conditioning:...|           1|      N|     N|     0.0|     NULL|        200|        2|City tax (Pay at ...|        0|media:M3diAproxy@...|            Y|   Free Breakfast|      NULL|         13/10/19|NULL|50677497|   634876|Air conditioning:...|Double Room|Room size: 15 m²/...|50677498|8646773|   634876|          5|02/11/19|  1|     1|         Double Room|     107.7|      0|     USD|Room size: 15 m²/...| Cancellation policy|https://www.agoda...|Air conditioning:...|           2|      N|     N|     0.0|     NULL|        200|        2|                NULL|        0|media:M3diAproxy@...|            Y|Free breakfast fo...|      NULL|         13/10/19|NULL|\n",
            "|       31|70198944|Air conditioning:...|Classic Double or...|Room size: 20 m²/...|6722330|          5|13/12/19|  1|     1|Classic Double or...|    219.52|      0|     USD|Room size: 20 m²/...|Extra low price! ...|https://www.agoda...|Air conditioning:...|           1|      N|     N|     0.0|     NULL|        200|        2|City tax (Pay at ...|        0|media:M3diAproxy@...|            Y|   Free Breakfast|      NULL|         13/10/19|NULL|50677497|   634876|Air conditioning:...|Double Room|Room size: 15 m²/...|50677499|8646773|   634876|          5|02/11/19|  1|     1|Deluxe Double Roo...|     107.7|      0|     USD|Room size: 17 m²/...|Extra low price! ...|https://www.agoda...|Air conditioning:...|           2|      N|     N|     0.0|     NULL|        200|        2|                NULL|        0|media:M3diAproxy@...|            Y|Free breakfast fo...|      NULL|         13/10/19|NULL|\n",
            "|       31|70198944|Air conditioning:...|Classic Double or...|Room size: 20 m²/...|6722330|          5|13/12/19|  1|     1|Classic Double or...|    219.52|      0|     USD|Room size: 20 m²/...|Extra low price! ...|https://www.agoda...|Air conditioning:...|           1|      N|     N|     0.0|     NULL|        200|        2|City tax (Pay at ...|        0|media:M3diAproxy@...|            Y|   Free Breakfast|      NULL|         13/10/19|NULL|50677497|   634876|Air conditioning:...|Double Room|Room size: 15 m²/...|50678356|9544501|    59961|          5|25/11/19|  1|     1|         Single Room|     56.98| 287.32|     USD|Room size: 18 m²/...|Extra low price! ...|https://www.agoda...|Air conditioning:...|           1|      Y|     N|   80.17|     NULL|        200|        2|              Tax 7%|        0|media:M3diAproxy@...|            Y|                NULL|      NULL|         13/10/19|NULL|\n",
            "|       31|70198944|Air conditioning:...|Classic Double or...|Room size: 20 m²/...|6722330|          5|13/12/19|  1|     1|Classic Double or...|    219.52|      0|     USD|Room size: 20 m²/...|Extra low price! ...|https://www.agoda...|Air conditioning:...|           1|      N|     N|     0.0|     NULL|        200|        2|City tax (Pay at ...|        0|media:M3diAproxy@...|            Y|   Free Breakfast|      NULL|         13/10/19|NULL|50677497|   634876|Air conditioning:...|Double Room|Room size: 15 m²/...|50678357|9544501|    59961|          5|25/11/19|  1|     1|         Single Room|     63.02| 287.32|     USD|Room size: 18 m²/...| Cancellation policy|https://www.agoda...|Air conditioning:...|           1|      Y|     N|   78.07|     NULL|        200|        2|              Tax 7%|        0|media:M3diAproxy@...|            Y|      Free Breakfast|      NULL|         13/10/19|NULL|\n",
            "|       31|70198944|Air conditioning:...|Classic Double or...|Room size: 20 m²/...|6722330|          5|13/12/19|  1|     1|Classic Double or...|    219.52|      0|     USD|Room size: 20 m²/...|Extra low price! ...|https://www.agoda...|Air conditioning:...|           1|      N|     N|     0.0|     NULL|        200|        2|City tax (Pay at ...|        0|media:M3diAproxy@...|            Y|   Free Breakfast|      NULL|         13/10/19|NULL|50677497|   634876|Air conditioning:...|Double Room|Room size: 15 m²/...|50688956|7711934|     6825|          5|07/01/20|  1|     1| Comfort Single Room|    104.48| 209.97|     USD|Room size: 14 m²/...|Extra low price! ...|https://www.agoda...|Air conditioning:...|           1|      Y|     N|   50.24|     NULL|        200|        2|Tax 10%, City Tax...|        0|media:M3diAproxy@...|            Y|                NULL|      NULL|         13/10/19|NULL|\n",
            "|       31|70198944|Air conditioning:...|Classic Double or...|Room size: 20 m²/...|6722330|          5|13/12/19|  1|     1|Classic Double or...|    219.52|      0|     USD|Room size: 20 m²/...|Extra low price! ...|https://www.agoda...|Air conditioning:...|           1|      N|     N|     0.0|     NULL|        200|        2|City tax (Pay at ...|        0|media:M3diAproxy@...|            Y|   Free Breakfast|      NULL|         13/10/19|NULL|50677497|   634876|Air conditioning:...|Double Room|Room size: 15 m²/...|50688957|7711934|     6825|          5|07/01/20|  1|     1| Comfort Single Room|    114.53| 209.97|     USD|Room size: 14 m²/...|Extra low price! ...|https://www.agoda...|Air conditioning:...|           1|      Y|     N|   45.45|     NULL|        200|        2|Tax 10%, City Tax...|        0|media:M3diAproxy@...|            Y|      Free Breakfast|      NULL|         13/10/19|NULL|\n",
            "|       31|70198944|Air conditioning:...|Classic Double or...|Room size: 20 m²/...|6722330|          5|13/12/19|  1|     1|Classic Double or...|    219.52|      0|     USD|Room size: 20 m²/...|Extra low price! ...|https://www.agoda...|Air conditioning:...|           1|      N|     N|     0.0|     NULL|        200|        2|City tax (Pay at ...|        0|media:M3diAproxy@...|            Y|   Free Breakfast|      NULL|         13/10/19|NULL|50677497|   634876|Air conditioning:...|Double Room|Room size: 15 m²/...|50688958|7711934|     6825|          5|07/01/20|  1|     1| Comfort Single Room|    115.53| 209.97|     USD|Room size: 14 m²/...|Free cancellation...|https://www.agoda...|Air conditioning:...|           1|      Y|     N|   44.98|     NULL|        200|        2|Tax 10%, City Tax...|        0|media:M3diAproxy@...|            Y|                NULL|      NULL|         13/10/19|NULL|\n",
            "|       31|70198944|Air conditioning:...|Classic Double or...|Room size: 20 m²/...|6722330|          5|13/12/19|  1|     1|Classic Double or...|    219.52|      0|     USD|Room size: 20 m²/...|Extra low price! ...|https://www.agoda...|Air conditioning:...|           1|      N|     N|     0.0|     NULL|        200|        2|City tax (Pay at ...|        0|media:M3diAproxy@...|            Y|   Free Breakfast|      NULL|         13/10/19|NULL|50677497|   634876|Air conditioning:...|Double Room|Room size: 15 m²/...|50688959|7711934|     6825|          5|07/01/20|  1|     1| Comfort Single Room|    125.58| 209.97|     USD|Room size: 14 m²/...|Free cancellation...|https://www.agoda...|Air conditioning:...|           1|      Y|     N|   40.19|     NULL|        200|        2|Tax 10%, City Tax...|        0|media:M3diAproxy@...|            Y|      Free Breakfast|      NULL|         13/10/19|NULL|\n",
            "|       31|70198944|Air conditioning:...|Classic Double or...|Room size: 20 m²/...|6722330|          5|13/12/19|  1|     1|Classic Double or...|    219.52|      0|     USD|Room size: 20 m²/...|Extra low price! ...|https://www.agoda...|Air conditioning:...|           1|      N|     N|     0.0|     NULL|        200|        2|City tax (Pay at ...|        0|media:M3diAproxy@...|            Y|   Free Breakfast|      NULL|         13/10/19|NULL|50677497|   634876|Air conditioning:...|Double Room|Room size: 15 m²/...|50688960|7711934|     6825|          5|07/01/20|  1|     1|   Comfort Twin Room|    113.52| 209.97|     USD|Room size: 14 m²/...|Extra low price! ...|https://www.agoda...|Air conditioning:...|           1|      Y|     N|   45.94|     NULL|        200|        2|Tax 10%, City Tax...|        0|media:M3diAproxy@...|            Y|                NULL|      NULL|         13/10/19|NULL|\n",
            "|       31|70198944|Air conditioning:...|Classic Double or...|Room size: 20 m²/...|6722330|          5|13/12/19|  1|     1|Classic Double or...|    219.52|      0|     USD|Room size: 20 m²/...|Extra low price! ...|https://www.agoda...|Air conditioning:...|           1|      N|     N|     0.0|     NULL|        200|        2|City tax (Pay at ...|        0|media:M3diAproxy@...|            Y|   Free Breakfast|      NULL|         13/10/19|NULL|50677497|   634876|Air conditioning:...|Double Room|Room size: 15 m²/...|50693360|9544501|    59961|          5|25/11/19|  1|     1|         Double Room|      73.6| 184.98|     USD|Free Wi-Fi, Extra...|Extra low price! ...|https://www.agoda...|Air conditioning:...|           1|      Y|     N|   60.21|     NULL|        200|        2|              Tax 7%|        0|media:M3diAproxy@...|            Y|      Free Breakfast|      NULL|         13/10/19|NULL|\n",
            "|       31|70198944|Air conditioning:...|Classic Double or...|Room size: 20 m²/...|6722330|          5|13/12/19|  1|     1|Classic Double or...|    219.52|      0|     USD|Room size: 20 m²/...|Extra low price! ...|https://www.agoda...|Air conditioning:...|           1|      N|     N|     0.0|     NULL|        200|        2|City tax (Pay at ...|        0|media:M3diAproxy@...|            Y|   Free Breakfast|      NULL|         13/10/19|NULL|50677497|   634876|Air conditioning:...|Double Room|Room size: 15 m²/...|50696476|6903493|  1198059|          5|18/12/19|  1|     1|Deluxe, Guest roo...|     74.97| 286.21|     USD|Room size: 25 m²/...|Extra low price! ...|https://www.agoda...|Air conditioning:...|           2|      Y|     N|   73.81|     NULL|        200|        2|             VAT 20%|        0|media:M3diAproxy@...|            Y|                NULL|      NULL|         13/10/19|NULL|\n",
            "|       31|70198944|Air conditioning:...|Classic Double or...|Room size: 20 m²/...|6722330|          5|13/12/19|  1|     1|Classic Double or...|    219.52|      0|     USD|Room size: 20 m²/...|Extra low price! ...|https://www.agoda...|Air conditioning:...|           1|      N|     N|     0.0|     NULL|        200|        2|City tax (Pay at ...|        0|media:M3diAproxy@...|            Y|   Free Breakfast|      NULL|         13/10/19|NULL|50677497|   634876|Air conditioning:...|Double Room|Room size: 15 m²/...|50693475|8113618|   114228|          5|20/10/19|  1|     1|full size bed (1 ...|     73.14|      0|     USD|Free Wi-Fi, Extra...|Extra low price! ...|https://www.agoda...|Air conditioning:...|           1|      N|     N|     0.0|     NULL|        200|        2|             Tax 10%|        0|media:M3diAproxy@...|            Y|                NULL|      NULL|         13/10/19|NULL|\n",
            "+---------+--------+--------------------+--------------------+--------------------+-------+-----------+--------+---+------+--------------------+----------+-------+--------+--------------------+--------------------+--------------------+--------------------+------------+-------+------+--------+---------+-----------+---------+--------------------+---------+--------------------+-------------+-----------------+----------+-----------------+----+--------+---------+--------------------+-----------+--------------------+--------+-------+---------+-----------+--------+---+------+--------------------+----------+-------+--------+--------------------+--------------------+--------------------+--------------------+------------+-------+------+--------+---------+-----------+---------+--------------------+---------+--------------------+-------------+--------------------+----------+-----------------+----+\n",
            "only showing top 20 rows\n",
            "\n"
          ]
        },
        {
          "output_type": "display_data",
          "data": {
            "text/plain": [
              "<IPython.core.display.Javascript object>"
            ],
            "application/javascript": [
              "\n",
              "    async function download(id, filename, size) {\n",
              "      if (!google.colab.kernel.accessAllowed) {\n",
              "        return;\n",
              "      }\n",
              "      const div = document.createElement('div');\n",
              "      const label = document.createElement('label');\n",
              "      label.textContent = `Downloading \"${filename}\": `;\n",
              "      div.appendChild(label);\n",
              "      const progress = document.createElement('progress');\n",
              "      progress.max = size;\n",
              "      div.appendChild(progress);\n",
              "      document.body.appendChild(div);\n",
              "\n",
              "      const buffers = [];\n",
              "      let downloaded = 0;\n",
              "\n",
              "      const channel = await google.colab.kernel.comms.open(id);\n",
              "      // Send a message to notify the kernel that we're ready.\n",
              "      channel.send({})\n",
              "\n",
              "      for await (const message of channel.messages) {\n",
              "        // Send a message to notify the kernel that we're ready.\n",
              "        channel.send({})\n",
              "        if (message.buffers) {\n",
              "          for (const buffer of message.buffers) {\n",
              "            buffers.push(buffer);\n",
              "            downloaded += buffer.byteLength;\n",
              "            progress.value = downloaded;\n",
              "          }\n",
              "        }\n",
              "      }\n",
              "      const blob = new Blob(buffers, {type: 'application/binary'});\n",
              "      const a = document.createElement('a');\n",
              "      a.href = window.URL.createObjectURL(blob);\n",
              "      a.download = filename;\n",
              "      div.appendChild(a);\n",
              "      a.click();\n",
              "      div.remove();\n",
              "    }\n",
              "  "
            ]
          },
          "metadata": {}
        },
        {
          "output_type": "display_data",
          "data": {
            "text/plain": [
              "<IPython.core.display.Javascript object>"
            ],
            "application/javascript": [
              "download(\"download_6caf1c9f-6627-47a9-abea-11ba07a5e2e7\", \"output_file.csv\", 174309564)"
            ]
          },
          "metadata": {}
        }
      ]
    }
  ]
}